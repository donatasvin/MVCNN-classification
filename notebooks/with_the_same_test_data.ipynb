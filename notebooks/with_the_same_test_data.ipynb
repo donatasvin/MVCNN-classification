{
 "cells": [
  {
   "cell_type": "markdown",
   "metadata": {},
   "source": [
    "# <center>Car Plugs - Multi-View Image Classification</center>"
   ]
  },
  {
   "cell_type": "code",
   "execution_count": 1,
   "metadata": {
    "ExecuteTime": {
     "end_time": "2019-12-23T19:39:24.725471Z",
     "start_time": "2019-12-23T19:39:22.659395Z"
    }
   },
   "outputs": [],
   "source": [
    "#=============================================================================================================#\n",
    "#                                                   IMPORTS                                                   #\n",
    "#=============================================================================================================#\n",
    "import numpy as np\n",
    "import pandas as pd\n",
    "import matplotlib.pyplot as plt\n",
    "import sys\n",
    "import os\n",
    "import time\n",
    "from PIL import Image\n",
    "import cv2\n",
    "import csv\n",
    "import copy\n",
    "\n",
    "from collections import OrderedDict\n",
    "from scipy import spatial\n",
    "import glob\n",
    "\n",
    "from sklearn.cluster import KMeans\n",
    "from sklearn.linear_model import LogisticRegression\n",
    "from sklearn.model_selection import train_test_split, KFold, GridSearchCV, StratifiedShuffleSplit\n",
    "from sklearn.preprocessing import LabelEncoder\n",
    "from sklearn.metrics import make_scorer, accuracy_score\n",
    "\n",
    "import torch\n",
    "import torch.nn as nn\n",
    "import torch.optim as optim\n",
    "from torch.utils.data import Dataset, DataLoader\n",
    "from torch.utils.data.sampler import SubsetRandomSampler\n",
    "\n",
    "from torchvision import models\n",
    "import torchvision.transforms as transforms\n",
    "\n",
    "\n",
    "import pickle\n",
    "from joblib import dump, load\n",
    "\n",
    "import warnings\n",
    "warnings.filterwarnings('ignore')\n"
   ]
  },
  {
   "cell_type": "code",
   "execution_count": 2,
   "metadata": {},
   "outputs": [],
   "source": [
    "#======================================================================================================================#\n",
    "#                                           UTILITY FUNCTIONS & GLOBALS                                                #\n",
    "#======================================================================================================================#\n",
    "# Class labels to indices\n",
    "class_id_map = {'cola':1, \n",
    "                'milk':2, \n",
    "                'banana': 3,\n",
    "                'yog':0,\n",
    "                'orange': 4,\n",
    "                'nut': 5,\n",
    "                'crem': 6,\n",
    "                'cand': 7}\n"
   ]
  },
  {
   "cell_type": "markdown",
   "metadata": {},
   "source": [
    "## I. Data Processing"
   ]
  },
  {
   "cell_type": "markdown",
   "metadata": {},
   "source": [
    "This section aims to build a processed image dataset from the original one. The processing steps involve getting rid of some noisy artifacts and converting the gray shades in the background to black.\n",
    "\n",
    "The folder structure of the project is as follows :\n",
    "\n",
    "    Multi-View-Image-Classification/\n",
    "    ├── data/\n",
    "    │   ├── raw/\n",
    "    │   │   ├── codename1_x1.png\n",
    "    │   │   ├── codename1_x2.png\n",
    "    │   │\n",
    "    │   │   ...\n",
    "    │   │\n",
    "    │   │   ├── codename1_x8.png\n",
    "    │   │\n",
    "    │   │   ...\n",
    "    │   │   \n",
    "    │   │   ├── codename833_x8.png\n",
    "    │   │   └── train.csv\n",
    "    │   ├── processed/\n",
    "    │   │   ├── codename1_x1_processed.png\n",
    "    │   │   ├── codename1_x2_processed.png\n",
    "    │   │\n",
    "    │   │   ...\n",
    "    │   │\n",
    "    │   │   ├── codename1_x8_processed.png\n",
    "    │   │\n",
    "    │   │   ...\n",
    "    │   │   \n",
    "    │   │   ├── codename833_x8_processed.png\n",
    "    │   │   └── train.csv\n",
    "    ├── models/\n",
    "    │   ├── kmeans.pkl\n",
    "    │   ├── logistic_regression.pkl\n",
    "    │   ├── mvcnn_stage_1.pkl\n",
    "    │   └── mvcnn_state_2.pkl\n",
    "    ├── notebooks/\n",
    "    │   ├── Car Plugs - Multi-View Image Classification.ipynb\n",
    "    │   └── Car Plugs - Multi-View Image Classification.html\n",
    "    ├── resources/\n",
    "    │   ├── scaler_mean.npy\n",
    "    │   ├── scaler_std.npy\n",
    "    │   └── vocabulary_surf.npy\n",
    "\n"
   ]
  },
  {
   "cell_type": "code",
   "execution_count": 3,
   "metadata": {
    "ExecuteTime": {
     "end_time": "2019-12-21T14:03:13.448479Z",
     "start_time": "2019-12-21T14:03:13.444681Z"
    }
   },
   "outputs": [],
   "source": [
    "# GLOBALS\n",
    "\n",
    "# Data Directory\n",
    "data_dir = '../data/raw'\n",
    "\n",
    "# Image Processing Parameters \n",
    "BLUR = 21\n",
    "CANNY_THRESH_1 = 25\n",
    "CANNY_THRESH_2 = 150\n",
    "MASK_DILATE_ITER = 10\n",
    "MASK_ERODE_ITER = 10\n",
    "MASK_COLOR = (0.0, 0.0, 1.0) # In BGR format"
   ]
  },
  {
   "cell_type": "code",
   "execution_count": 4,
   "metadata": {
    "ExecuteTime": {
     "end_time": "2019-12-21T14:03:14.046533Z",
     "start_time": "2019-12-21T14:03:14.037082Z"
    }
   },
   "outputs": [],
   "source": [
    "# IMAGE PREPROCESSING FUNCTION (https://stackoverflow.com/questions/29313667/how-do-i-remove-the-background-from-this-kind-of-image)\n",
    "\n",
    "def preprocess(filename):\n",
    "    img = cv2.imread(filename)\n",
    "    imgResized = cv2.resize(img, (0, 0), fx = 0.1, fy = 0.1)\n",
    "    gray = cv2.cvtColor(imgResized, cv2.COLOR_BGR2GRAY)\n",
    "\n",
    "    #-- Edge detection -------------------------------------------------------------------\n",
    "    edges = cv2.Canny(gray, CANNY_THRESH_1, CANNY_THRESH_2)\n",
    "    edges = cv2.dilate(edges, None)\n",
    "    edges = cv2.erode(edges, None)\n",
    "    \n",
    "    #-- Find contours in edges, sort by area ---------------------------------------------\n",
    "    contour_info = []\n",
    "    contours, hierarchy = cv2.findContours(edges, cv2.RETR_LIST, cv2.CHAIN_APPROX_NONE)\n",
    "\n",
    "    for c in contours:\n",
    "        contour_info.append((\n",
    "            c,\n",
    "            cv2.isContourConvex(c),\n",
    "            cv2.contourArea(c),\n",
    "        ))\n",
    "    contour_info = sorted(contour_info, key=lambda c: c[2], reverse=True)\n",
    "    max_contour = contour_info[0]\n",
    "    \n",
    "    #-- Create empty mask, draw filled polygon on it corresponding to largest contour ----\n",
    "    # Mask is black, polygon is white\n",
    "    mask = np.zeros(edges.shape)\n",
    "    cv2.fillConvexPoly(mask, max_contour[0], (255))\n",
    "\n",
    "    #-- Smooth mask, then blur it --------------------------------------------------------\n",
    "    mask = cv2.dilate(mask, None, iterations=MASK_DILATE_ITER)\n",
    "    mask = cv2.erode(mask, None, iterations=MASK_ERODE_ITER)\n",
    "    mask = cv2.GaussianBlur(mask, (BLUR, BLUR), 0)\n",
    "\n",
    "    #-- Create final image ---------------------------------------------------------------\n",
    "    imgResized[mask <= 100] = 0\n",
    "    return imgResized\n",
    " "
   ]
  },
  {
   "cell_type": "code",
   "execution_count": 6,
   "metadata": {
    "ExecuteTime": {
     "end_time": "2019-12-21T14:03:15.069358Z",
     "start_time": "2019-12-21T14:03:14.716781Z"
    }
   },
   "outputs": [
    {
     "data": {
      "image/png": "[encoded data removed]",
      "text/plain": [
       "<Figure size 432x288 with 1 Axes>"
      ]
     },
     "metadata": {
      "needs_background": "light"
     },
     "output_type": "display_data"
    }
   ],
   "source": [
    "# Preprocessing an example image\n",
    "filename = '../data/raw/cand1_4.jpg'\n",
    "img = preprocess(filename)\n",
    "\n",
    "plt.imshow(img);"
   ]
  },
  {
   "cell_type": "code",
   "execution_count": 7,
   "metadata": {
    "ExecuteTime": {
     "end_time": "2019-12-21T14:25:56.275161Z",
     "start_time": "2019-12-21T14:25:55.313176Z"
    },
    "scrolled": false
   },
   "outputs": [],
   "source": [
    "# Preprocess all images and Save them to a new directory `processed`\n",
    "\n",
    "filenames = glob.glob(os.path.join(data_dir, '*.JPG')) # list all image file names in the data folder\n",
    "proc_data_dir = '../data/processed'\n",
    "\n",
    "for fname in filenames:\n",
    "    img_name = os.path.basename(fname)\n",
    "    img = preprocess(fname)\n",
    "    cv2.imwrite(os.path.join(proc_data_dir, os.path.splitext(img_name)[0] + '_processed.png'), img)"
   ]
  },
  {
   "cell_type": "code",
   "execution_count": 8,
   "metadata": {
    "ExecuteTime": {
     "end_time": "2019-12-22T18:51:06.730866Z",
     "start_time": "2019-12-22T18:51:06.723146Z"
    }
   },
   "outputs": [],
   "source": [
    "# Function for visualizing a Car Plug (with all its 8 images)\n",
    "\n",
    "def show_plug(plug_name, data_dir, preprocess=None):\n",
    "    # Read Images\n",
    "    plug_fnames = glob.glob(os.path.join(data_dir, f'{plug_name}*.JPG'))\n",
    "    print(f'{plug_name}*.JPG')\n",
    "    if preprocess:\n",
    "        plug_images = [preprocess(plug_fname) for plug_fname in plug_fnames]\n",
    "    else:\n",
    "        plug_images = [cv2.cvtColor(cv2.imread(plug_fname), cv2.COLOR_BGR2RGB) for plug_fname in plug_fnames]\n",
    "    # Visualize Images\n",
    "    plt.figure(figsize=(18,8))\n",
    "    for i in range(len(plug_images)):\n",
    "        plt.subplot(2, 4, i+1)\n",
    "        plt.imshow(plug_images[i])\n",
    "        plt.title(os.path.basename(plug_fnames[i]))\n",
    "        plt.xticks([])\n",
    "        plt.yticks([])\n",
    "        \n",
    "    plt.suptitle(f'Item: {plug_name}', size=20)\n",
    "    \n",
    "    \n"
   ]
  },
  {
   "cell_type": "code",
   "execution_count": 9,
   "metadata": {
    "ExecuteTime": {
     "end_time": "2019-12-22T18:51:09.908542Z",
     "start_time": "2019-12-22T18:51:07.050292Z"
    }
   },
   "outputs": [
    {
     "name": "stdout",
     "output_type": "stream",
     "text": [
      "cola1_1*.JPG\n",
      "cola1_1*.JPG\n"
     ]
    },
    {
     "data": {
      "image/png": "[encoded data removed]",
      "text/plain": [
       "<Figure size 1296x576 with 1 Axes>"
      ]
     },
     "metadata": {},
     "output_type": "display_data"
    },
    {
     "data": {
      "image/png": "[encoded data removed]",
      "text/plain": [
       "<Figure size 1296x576 with 1 Axes>"
      ]
     },
     "metadata": {},
     "output_type": "display_data"
    }
   ],
   "source": [
    "# Example Visualization\n",
    "\n",
    "plug_name = 'cola1_1'\n",
    "show_plug(plug_name, data_dir)\n",
    "show_plug(plug_name, data_dir, preprocess=preprocess)"
   ]
  },
  {
   "cell_type": "markdown",
   "metadata": {},
   "source": [
    "## II. Feature Extraction & Machine Learning"
   ]
  },
  {
   "cell_type": "markdown",
   "metadata": {},
   "source": [
    "This chapter presents the first approach we'll be using to solve the problem : a combination of traditional computer vision feature extraction techniques and classical machine learning algorithms. Since we will not be using neural networks, the difficulty here will fall on the engineering aspect of the solution including the formulation of the problem, rather than the fine-tuning and convergence of the model which is the difficulty typically encountered in deep learning."
   ]
  },
  {
   "cell_type": "markdown",
   "metadata": {},
   "source": [
    "### 1. Build Vocabulary of Visual Words"
   ]
  },
  {
   "cell_type": "markdown",
   "metadata": {},
   "source": [
    "The first step is building a vocabulary of visual words. This task relies on one or a combination of multiple traditional computer vision feature extractors such as : HoG, SURF, SIFT etc. Let us first use SURF to extract features from an example image, visualize the key-points identified, then extract features from all of the images (of all car plugs) into a matrix of descriptors. We then use K-means on this matrix to come up with our K visual words (represented by the K centroids)."
   ]
  },
  {
   "cell_type": "code",
   "execution_count": 10,
   "metadata": {
    "ExecuteTime": {
     "end_time": "2019-12-24T17:21:55.130830Z",
     "start_time": "2019-12-24T17:21:54.895243Z"
    }
   },
   "outputs": [
    {
     "name": "stdout",
     "output_type": "stream",
     "text": [
      "The number of key points detected: 699\n"
     ]
    },
    {
     "data": {
      "image/png": "[encoded data removed]",
      "text/plain": [
       "<Figure size 360x360 with 1 Axes>"
      ]
     },
     "metadata": {},
     "output_type": "display_data"
    }
   ],
   "source": [
    "# Detect and Visualize Keypoints in an Image\n",
    "\n",
    "# Choosing a high value for the hessian threshold in order to visualize only a few key-points to avoid clutter\n",
    "surf = cv2.SIFT_create(2000) \n",
    "\n",
    "img = cv2.imread('../data/processed/cola1_1_processed.png')\n",
    "img = cv2.resize(cv2.cvtColor(img, cv2.COLOR_BGR2GRAY), (900, 900))\n",
    "\n",
    "kp, descriptors = surf.detectAndCompute(img, None)\n",
    "print('The number of key points detected:', len(kp))\n",
    "\n",
    "img_kp = cv2.drawKeypoints(img, kp, None, flags=cv2.DRAW_MATCHES_FLAGS_DRAW_RICH_KEYPOINTS)\n",
    "plt.figure(figsize=(5, 5))\n",
    "plt.imshow(img_kp, cmap='gray')\n",
    "plt.xticks([])\n",
    "plt.yticks([]);"
   ]
  },
  {
   "cell_type": "code",
   "execution_count": 11,
   "metadata": {
    "ExecuteTime": {
     "end_time": "2019-12-21T20:53:17.847968Z",
     "start_time": "2019-12-21T20:51:07.140254Z"
    }
   },
   "outputs": [
    {
     "name": "stdout",
     "output_type": "stream",
     "text": [
      "Shape of the Matrix of Descriptors (25714, 128)\n"
     ]
    }
   ],
   "source": [
    "# CREATE THE MATRIX OF DESCRIPTORS FROM ALL IMAGES\n",
    "\n",
    "proc_data_dir = '../data/processed'\n",
    "filenames = glob.glob(os.path.join(proc_data_dir, '*.png')) # list all image file names in the data folder\n",
    "\n",
    "surf = cv2.SIFT_create(300)  # create SURF feature extractor\n",
    "\n",
    "\n",
    "counter = 0\n",
    "list_descriptors = []\n",
    "\n",
    "for filename in filenames:\n",
    "    img = cv2.imread(filename)\n",
    "    img = cv2.resize(cv2.cvtColor(img, cv2.COLOR_BGR2GRAY), (300, 300))\n",
    "    kp, descriptors = surf.detectAndCompute(img, None)\n",
    "    if descriptors is not None:\n",
    "        list_descriptors.append(descriptors)\n",
    "\n",
    "# This is a matrix where each row is a feature vector extracted from an image (possible to have multiple features per image)      \n",
    "# And each column is a dimension of the SURF feature vector (total 64, can also be 128 which can be set in the definition of surf) \n",
    "descriptor_matrix = np.vstack(list_descriptors)\n",
    "print('Shape of the Matrix of Descriptors', descriptor_matrix.shape)"
   ]
  },
  {
   "cell_type": "code",
   "execution_count": 12,
   "metadata": {
    "ExecuteTime": {
     "end_time": "2019-12-21T21:27:40.146585Z",
     "start_time": "2019-12-21T20:54:09.341966Z"
    },
    "scrolled": true
   },
   "outputs": [
    {
     "name": "stdout",
     "output_type": "stream",
     "text": [
      "The shape of the centroids: (200, 128)\n"
     ]
    }
   ],
   "source": [
    "# CLUSTER FEATURE VECTORS TO CONSTRUCT THE CODEBOOK (i.e VOCABULARY OF VISUAL WORDS)\n",
    "# Training Kmeans takes time, we save it at the end so we can reload it again later\n",
    "# Note : bigger K (eg. 500 or 800) will yield better results at the expense of more computation time\n",
    "K = 200\n",
    "km = KMeans(n_clusters=K, n_jobs=-1)\n",
    "km.fit(descriptor_matrix)\n",
    "centroids = km.cluster_centers_\n",
    "print('The shape of the centroids:', centroids.shape)\n",
    "\n",
    "del descriptor_matrix # To free up memory\n",
    "\n",
    "# Save the k-means model and its centroids\n",
    "#np.save('../resources/vocabulary_surf.npy', centroids)\n",
    "#pickle.dump(km, open('../models/kmeans.pkl', 'wb'))"
   ]
  },
  {
   "cell_type": "markdown",
   "metadata": {},
   "source": [
    "### 2. Build Matrix of Feature Vectors"
   ]
  },
  {
   "cell_type": "markdown",
   "metadata": {},
   "source": [
    "Here, we build the matrix of feature vectors by transforming each Car Plug (8 images) into a vector of size K (number of clusters from before). For each Car Plug we process all its image views, extract their SURF descriptors, find the cluster of each descriptor (i.e. the visual word associated with the descriptor), then count the number of times each visual word (i.e. cluster) occurs. We end up with a feature vector of size K for that Car Plug. Stacking these feature vectors vertically results in a NxK matrix where each row represents a Car Plug and each column, a visual word and each cell, the number of times the visual word occurs in the Car Plug (i.e all of its image views)."
   ]
  },
  {
   "cell_type": "code",
   "execution_count": 13,
   "metadata": {
    "ExecuteTime": {
     "end_time": "2019-12-23T19:44:27.664649Z",
     "start_time": "2019-12-23T19:44:27.651414Z"
    }
   },
   "outputs": [],
   "source": [
    "# FUNCTION DEFINITION : turns a car plug (set of 8 images) into a feature vector of size K through image quantization.\n",
    "# We use the K-means model trained on the matrix of descriptors\n",
    "# Iterate through the images of plug, process each image, create its SURF feature vectors\n",
    "# Predict the cluster of each feature vector, add 1 to the output vector at the location of the predicted cluster (Quantization)\n",
    "\n",
    "def get_feature_vec(plug_name, model, preprocess=None, surf_threshold=200):\n",
    "    \n",
    "    feature_vec = np.zeros(K) # Intialize vector representation of visual words\n",
    "    \n",
    "    surf = cv2.SIFT_create(surf_threshold)\n",
    "    \n",
    "    plug_fnames = glob.glob(os.path.join(proc_data_dir, f'{plug_name}_*.png'))\n",
    "    if preprocess:\n",
    "        plug_images = [cv2.resize(cv2.cvtColor(preprocess(plug_fname), cv2.COLOR_BGR2GRAY), (300, 300)) for plug_fname in plug_fnames] \n",
    "    else:\n",
    "        plug_images = [cv2.resize(cv2.cvtColor(cv2.imread(plug_fname), cv2.COLOR_BGR2GRAY), (300, 300)) for plug_fname in plug_fnames] \n",
    "    \n",
    "    for image in plug_images: # iterate over the image views of the car plug\n",
    "        kp, descriptors = surf.detectAndCompute(image, None) # extract the surf descriptors of the image\n",
    "        if descriptors is not None:\n",
    "            visual_words = model.predict(descriptors) # find all the visual words in the image\n",
    "            for visual_word in visual_words: # find the occurence of each visual word\n",
    "                feature_vec[visual_word] += 1\n",
    "\n",
    "    return feature_vec\n"
   ]
  },
  {
   "cell_type": "code",
   "execution_count": 14,
   "metadata": {
    "ExecuteTime": {
     "end_time": "2019-12-23T19:51:46.918818Z",
     "start_time": "2019-12-23T19:51:44.849076Z"
    }
   },
   "outputs": [
    {
     "data": {
      "image/png": "[encoded data removed]",
      "text/plain": [
       "<Figure size 1296x720 with 6 Axes>"
      ]
     },
     "metadata": {
      "needs_background": "light"
     },
     "output_type": "display_data"
    }
   ],
   "source": [
    "# Example : Visualizing the feature vector of two images as a bar graph\n",
    "\n",
    "plug_name_1 = 'cola1'\n",
    "plug_name_2 = 'orange1'\n",
    "\n",
    "plug_fname_1 = os.path.join(proc_data_dir, f'{plug_name_1}_1_processed.png')\n",
    "plug_fname_2 = os.path.join(proc_data_dir, f'{plug_name_2}_1_processed.png')\n",
    "\n",
    "img_1 = cv2.cvtColor(cv2.imread(plug_fname_1), cv2.COLOR_BGR2RGB)\n",
    "img_2 = cv2.cvtColor(cv2.imread(plug_fname_2), cv2.COLOR_BGR2RGB)\n",
    "\n",
    "\n",
    "kp_1 = surf.detect(img_1)\n",
    "kp_2 = surf.detect(img_2)\n",
    "\n",
    "plt.figure(figsize=(18,10))\n",
    "\n",
    "plt.subplot(2, 3, 1)\n",
    "plt.imshow(img_1)\n",
    "plt.title('Image view of Item 1')\n",
    "plt.xticks([]); plt.yticks([]) \n",
    "plt.subplot(2, 3, 2)\n",
    "plt.imshow(cv2.drawKeypoints(cv2.cvtColor(img_1, cv2.COLOR_RGB2GRAY), kp_1, None, flags=cv2.DrawMatchesFlags_DRAW_RICH_KEYPOINTS))\n",
    "plt.title('Keypoints detected')\n",
    "plt.xticks([]); plt.yticks([]) \n",
    "plt.subplot(2, 3, 3)\n",
    "plt.bar(np.arange(1, K+1), get_feature_vec(plug_name_1, km), color='mediumaquamarine', width=0.3)\n",
    "plt.title('Feature Vector of Item 1 (all 8 imgs)')\n",
    "\n",
    "plt.subplot(2, 3, 4)\n",
    "plt.imshow(img_2)\n",
    "plt.title('Image view of Item 2')\n",
    "plt.xticks([]); plt.yticks([]) \n",
    "plt.subplot(2, 3, 5)\n",
    "plt.imshow(cv2.drawKeypoints(cv2.cvtColor(img_2, cv2.COLOR_RGB2GRAY), kp_2, None, flags=cv2.DrawMatchesFlags_DRAW_RICH_KEYPOINTS))\n",
    "plt.title('Keypoints detected')\n",
    "plt.xticks([]); plt.yticks([]) \n",
    "plt.subplot(2, 3, 6)\n",
    "plt.bar(np.arange(1, K+1), get_feature_vec(plug_name_2, km), color='mediumaquamarine', width=0.3)\n",
    "plt.title('Feature Vector of Item 2 (all 8 imgs)');"
   ]
  },
  {
   "cell_type": "code",
   "execution_count": 15,
   "metadata": {
    "ExecuteTime": {
     "end_time": "2019-12-21T22:40:27.854614Z",
     "start_time": "2019-12-21T22:38:12.727431Z"
    }
   },
   "outputs": [
    {
     "name": "stdout",
     "output_type": "stream",
     "text": [
      "['banana1' 'banana2' 'banana3' 'banana4' 'cand1' 'cand2' 'cand3' 'cola1'\n",
      " 'cola2' 'cola3' 'cola4' 'crem1' 'crem2' 'crem3' 'crem4' 'milk1' 'milk2'\n",
      " 'milk3' 'milk4' 'nut1' 'nut2' 'nut3' 'nut4' 'orange1' 'orange2' 'orange3'\n",
      " 'orange4' 'yog1' 'yog2' 'yog3' 'yog4']\n",
      "There are 31 Item types.\n",
      "Shape of the feature matrix (31, 200)\n"
     ]
    }
   ],
   "source": [
    "# BUILD THE MATRIX OF FEATURE VECTORS (NxK)\n",
    "\n",
    "plug_names = np.unique([fname.split('_')[0] for fname in os.listdir(proc_data_dir) if fname.endswith('.png')])\n",
    "print(plug_names)\n",
    "N = len(plug_names)\n",
    "print(f'There are {N} Item types.')\n",
    "\n",
    "X = np.empty((N, K))\n",
    "\n",
    "for i, plug_name in enumerate(plug_names):\n",
    "    X[i] = get_feature_vec(plug_name, km)\n",
    "\n",
    "print('Shape of the feature matrix', X.shape)"
   ]
  },
  {
   "cell_type": "markdown",
   "metadata": {
    "ExecuteTime": {
     "end_time": "2019-12-21T22:25:40.549819Z",
     "start_time": "2019-12-21T22:25:40.529570Z"
    }
   },
   "source": [
    "### 3. Train a Machine Learning Model"
   ]
  },
  {
   "cell_type": "code",
   "execution_count": 16,
   "metadata": {
    "ExecuteTime": {
     "end_time": "2019-12-21T23:29:13.573159Z",
     "start_time": "2019-12-21T23:29:13.055417Z"
    }
   },
   "outputs": [
    {
     "name": "stdout",
     "output_type": "stream",
     "text": [
      "['banana1' 'banana2' 'banana3' 'banana4' 'cand1' 'cand2' 'cand3' 'cola1'\n",
      " 'cola2' 'cola3' 'cola4' 'crem1' 'crem2' 'crem3' 'crem4' 'milk1' 'milk2'\n",
      " 'milk3' 'milk4' 'nut1' 'nut2' 'nut3' 'nut4' 'orange1' 'orange2' 'orange3'\n",
      " 'orange4' 'yog1' 'yog2' 'yog3' 'yog4']\n"
     ]
    },
    {
     "data": {
      "text/plain": [
       "array([3, 3, 3, 3, 7, 7, 7, 1, 1, 1])"
      ]
     },
     "execution_count": 16,
     "metadata": {},
     "output_type": "execute_result"
    }
   ],
   "source": [
    "# GET CAR PLUG LABELS\n",
    "df_class_map = pd.read_csv('../data/processed/train.csv')\n",
    "df_class_map.head()\n",
    "\n",
    "print(plug_names)\n",
    "labels = [df_class_map.loc[df_class_map.part_no == plug_name, 'label'].item() for plug_name in plug_names]\n",
    "labels[:10]\n",
    "\n",
    "y = np.array([class_id_map[label] for label in labels]) # Encode the string labels into code numbers\n",
    "y[:10]"
   ]
  },
  {
   "cell_type": "code",
   "execution_count": 17,
   "metadata": {
    "ExecuteTime": {
     "end_time": "2019-12-21T23:33:56.682603Z",
     "start_time": "2019-12-21T23:33:56.676774Z"
    }
   },
   "outputs": [],
   "source": [
    "# TRAIN-TEST SPLIT\n",
    "rnd = 42\n",
    "X_train, X_test, y_train, y_test = train_test_split(X, y, test_size=0.3, stratify=y, random_state=rnd)"
   ]
  },
  {
   "cell_type": "code",
   "execution_count": 18,
   "metadata": {
    "ExecuteTime": {
     "end_time": "2019-12-21T23:33:57.277220Z",
     "start_time": "2019-12-21T23:33:57.272445Z"
    }
   },
   "outputs": [],
   "source": [
    "# NORMALIZE DATA\n",
    "m = X_train.mean(axis=0)\n",
    "std = X_train.std(axis=0)\n",
    "\n",
    "X_train = (X_train - m)/std\n",
    "X_test = (X_test - m)/std\n",
    "\n",
    "# Need to save mean and std of training data, we use these values to normalize test data and new data as well\n",
    "#np.save('../resources/scaler_mean', m)\n",
    "#np.save('../resources/scaler_std', std)"
   ]
  },
  {
   "cell_type": "code",
   "execution_count": 19,
   "metadata": {
    "ExecuteTime": {
     "end_time": "2019-12-21T23:33:59.417900Z",
     "start_time": "2019-12-21T23:33:59.221944Z"
    }
   },
   "outputs": [
    {
     "name": "stdout",
     "output_type": "stream",
     "text": [
      "[6 0 1 0 3 2 1 4 2 1 2 7 0 7 6 4 5 5 3 5 4] [[-0.05719389 -0.36011329 -0.64081697 ...  0.06279195 -0.47783869\n",
      "   0.17636723]\n",
      " [-0.32409872  1.22271024 -0.26700707 ...  0.39244969  2.03081441\n",
      "   0.17636723]\n",
      " [-1.12481321 -0.00837473  0.85442263 ... -0.59652352 -0.47783869\n",
      "  -0.16033384]\n",
      " ...\n",
      " [-0.59100355 -0.53598257 -1.01462687 ... -0.92618126 -1.03531715\n",
      "  -1.17043705]\n",
      " [ 1.94459232 -0.53598257  0.48061273 ...  0.72210742 -0.19909945\n",
      "   0.17636723]\n",
      " [-1.12481321 -0.36011329 -1.01462687 ... -1.255839   -1.03531715\n",
      "  -1.17043705]]\n",
      "The accuracy of Logistic Regression is 90.0%\n"
     ]
    }
   ],
   "source": [
    "# TRAIN A LOGISTIC REGRESSION MODEL \n",
    "# We using cost-sensitive learning by providing the class weights to steer the learning towards making less costly mistakes as represented by the weights\n",
    "\n",
    "print(y_train, X_train)\n",
    "lr = LogisticRegression()\n",
    "lr.fit(X_train, y_train)\n",
    "\n",
    "y_pred = lr.predict(X_test)\n",
    "accuracy = accuracy_score(y_test, \n",
    "                          y_pred)\n",
    "\n",
    "print(f'The accuracy of Logistic Regression is {round(accuracy*100, 2)}%')"
   ]
  },
  {
   "cell_type": "code",
   "execution_count": 20,
   "metadata": {
    "ExecuteTime": {
     "end_time": "2019-12-21T23:46:11.985575Z",
     "start_time": "2019-12-21T23:46:11.982681Z"
    }
   },
   "outputs": [],
   "source": [
    "# SAVE THE MODEL\n",
    "pickle.dump(lr, open('../models/logistic_regression.pkl', 'wb'))"
   ]
  },
  {
   "cell_type": "markdown",
   "metadata": {},
   "source": [
    "**Comment :**\n",
    "\n",
    "Although the accuracy seems high, it has a very large variance. If we resample the training and test set again, we may obtain a very different performance value. The values typically range between 76% and 94% with an average around 87%."
   ]
  },
  {
   "cell_type": "code",
   "execution_count": 21,
   "metadata": {
    "ExecuteTime": {
     "end_time": "2019-12-22T00:04:43.476042Z",
     "start_time": "2019-12-22T00:04:43.471050Z"
    }
   },
   "outputs": [],
   "source": [
    "# FUNCTION TO GET PREDICTIONS FOR NEW CAR PLUGS\n",
    "\n",
    "def lr_pred(plug_name, data_dir, pred_model, clus_model, scaler_mean, scaler_std):\n",
    "\n",
    "    feature_vec = get_feature_vec(plug_name, clus_model, preprocess=preprocess)\n",
    "    feature_vec = (feature_vec - scaler_mean) / scaler_std\n",
    "    pred = pred_model.predict(feature_vec.reshape(1, -1))[0]\n",
    "    return pred, {v:k for k,v in class_id_map.items()}[pred]\n"
   ]
  },
  {
   "cell_type": "code",
   "execution_count": 31,
   "metadata": {
    "ExecuteTime": {
     "end_time": "2019-12-22T00:04:33.919166Z",
     "start_time": "2019-12-22T00:04:33.212537Z"
    }
   },
   "outputs": [
    {
     "data": {
      "text/plain": [
       "(4, 'orange')"
      ]
     },
     "execution_count": 31,
     "metadata": {},
     "output_type": "execute_result"
    }
   ],
   "source": [
    "# GET NEW PREDICTIONS FROM RAW IMAGES USING A CAR PLUG NAME\n",
    "plug_name = 'orange4'\n",
    "lr_pred(plug_name, data_dir, lr, km, m, std)"
   ]
  },
  {
   "cell_type": "markdown",
   "metadata": {},
   "source": [
    "## III. Multi-View Convolutional Neural Network (MVCNN)"
   ]
  },
  {
   "cell_type": "markdown",
   "metadata": {},
   "source": [
    "## 1. Create A Custom PyTorch Dataset"
   ]
  },
  {
   "cell_type": "code",
   "execution_count": 32,
   "metadata": {
    "ExecuteTime": {
     "end_time": "2019-12-22T00:14:19.154740Z",
     "start_time": "2019-12-22T00:14:19.145816Z"
    }
   },
   "outputs": [],
   "source": [
    "class CarPlugDataset(Dataset):\n",
    "    def __init__(self, root):\n",
    "        self.root = root\n",
    "        self.nb_views = 8\n",
    "        self.plug_label_map = self._get_plug_label_map(root + '/train.csv')\n",
    "        self.plug_names = self._get_plug_names(root)\n",
    "        self.label_encoder = {'cola':1, \n",
    "                'milk':2, \n",
    "                'banana': 3,\n",
    "                'yog':0,\n",
    "                'orange': 4,\n",
    "                'nut': 5,\n",
    "                'crem': 6,\n",
    "                'cand': 7} \n",
    "        \n",
    "    def _get_plug_names(self, root):\n",
    "        plug_names = [fname.split('_')[0] for fname in os.listdir(root) if fname.endswith('.png')]\n",
    "        plug_names = list(set(plug_names))\n",
    "        return plug_names\n",
    "    \n",
    "    def _get_plug_label_map(self, filename):\n",
    "        reader = csv.DictReader(open(filename))\n",
    "        plug_label_map = {}\n",
    "        for row in reader:\n",
    "            plug_label_map[row['part_no']] = row['label']\n",
    "        return plug_label_map\n",
    "        \n",
    "    def __len__(self):\n",
    "        return len(self.plug_names)\n",
    "    \n",
    "    def _transform(self, image):\n",
    "        transform = transforms.Compose([transforms.Resize((224, 224)), transforms.ToTensor()])\n",
    "        return transform(image)\n",
    "    \n",
    "    def __getitem__(self, index):\n",
    "        plug_name = self.plug_names[index]\n",
    "        # Get Images of the Plug\n",
    "        plug_fnames = glob.glob(self.root + f'/{plug_name}_*.png')\n",
    "        plug = torch.stack([self._transform(Image.open(fname).convert('RGB')) for fname in plug_fnames])\n",
    "        label = self.label_encoder[self.plug_label_map[plug_name]]\n",
    "        return plug, label\n",
    "    \n",
    "     "
   ]
  },
  {
   "cell_type": "code",
   "execution_count": 33,
   "metadata": {
    "ExecuteTime": {
     "end_time": "2019-12-22T00:16:27.037120Z",
     "start_time": "2019-12-22T00:16:27.017483Z"
    }
   },
   "outputs": [
    {
     "data": {
      "text/plain": [
       "31"
      ]
     },
     "execution_count": 33,
     "metadata": {},
     "output_type": "execute_result"
    }
   ],
   "source": [
    "# CREATE DATASET\n",
    "root = '../data/processed'\n",
    "dataset = CarPlugDataset(root)\n",
    "len(dataset)"
   ]
  },
  {
   "cell_type": "code",
   "execution_count": 68,
   "metadata": {
    "ExecuteTime": {
     "end_time": "2019-12-22T00:17:27.251798Z",
     "start_time": "2019-12-22T00:17:27.245036Z"
    }
   },
   "outputs": [],
   "source": [
    "# CREATE STRATIFIED TRAIN-VALIDATION SPLIT INDICES\n",
    "sss = StratifiedShuffleSplit(n_splits=1, test_size=0.3)\n",
    "y = [dataset.plug_label_map[plug] for plug in dataset.plug_names]\n",
    "\n",
    "train_indices, val_indices = next(sss.split(np.zeros(len(y)), y))"
   ]
  },
  {
   "cell_type": "code",
   "execution_count": 69,
   "metadata": {
    "ExecuteTime": {
     "end_time": "2019-12-22T00:18:29.557001Z",
     "start_time": "2019-12-22T00:18:29.552523Z"
    }
   },
   "outputs": [],
   "source": [
    "# CREATE TRAIN AND VALIDATION DATA LOADERS\n",
    "train_sampler = SubsetRandomSampler(train_indices)\n",
    "val_sampler = SubsetRandomSampler(val_indices)\n",
    "\n",
    "train_loader = DataLoader(dataset, batch_size=31, sampler=train_sampler, num_workers=0)\n",
    "val_loader = DataLoader(dataset, batch_size=31, sampler=val_sampler, num_workers=0)\n",
    "data_loaders = {'train': train_loader, 'val': val_loader}"
   ]
  },
  {
   "cell_type": "markdown",
   "metadata": {
    "ExecuteTime": {
     "end_time": "2019-12-22T00:15:40.148001Z",
     "start_time": "2019-12-22T00:15:40.138423Z"
    }
   },
   "source": [
    "## 2. Create the Multi-View CNN (MVCNN) Architecture "
   ]
  },
  {
   "cell_type": "code",
   "execution_count": 70,
   "metadata": {
    "ExecuteTime": {
     "end_time": "2019-12-22T00:20:15.751857Z",
     "start_time": "2019-12-22T00:20:15.744602Z"
    }
   },
   "outputs": [],
   "source": [
    "# MULTI-VIEW CONVOLUTIONAL NEURAL NETWORK (MVCNN) ARCHITECTURE\n",
    "\n",
    "class MVCNN(nn.Module):\n",
    "    def __init__(self, num_classes=1000, pretrained=True):\n",
    "        super(MVCNN, self).__init__()\n",
    "        resnet = models.resnet34(pretrained = pretrained)\n",
    "        fc_in_features = resnet.fc.in_features\n",
    "        self.features = nn.Sequential(*list(resnet.children())[:-1])\n",
    "        self.classifier = nn.Sequential(\n",
    "            nn.Dropout(),\n",
    "            nn.Linear(fc_in_features, 2048),\n",
    "            nn.ReLU(inplace=True),\n",
    "            nn.Dropout(),\n",
    "            nn.Linear(2048, 2048),\n",
    "            nn.ReLU(inplace=True),\n",
    "            nn.Linear(2048, num_classes)\n",
    "        )\n",
    "\n",
    "    def forward(self, inputs): # inputs.shape = samples x views x height x width x channels\n",
    "        inputs = inputs.transpose(0, 1)\n",
    "        view_features = [] \n",
    "        for view_batch in inputs:\n",
    "            view_batch = self.features(view_batch)\n",
    "            view_batch = view_batch.view(view_batch.shape[0], view_batch.shape[1:].numel())\n",
    "            view_features.append(view_batch)   \n",
    "            \n",
    "        pooled_views, _ = torch.max(torch.stack(view_features), 0)\n",
    "        outputs = self.classifier(pooled_views)\n",
    "        return outputs"
   ]
  },
  {
   "cell_type": "code",
   "execution_count": 71,
   "metadata": {
    "ExecuteTime": {
     "end_time": "2019-12-22T00:20:40.447768Z",
     "start_time": "2019-12-22T00:20:30.823270Z"
    }
   },
   "outputs": [
    {
     "name": "stdout",
     "output_type": "stream",
     "text": [
      "MVCNN(\n",
      "  (features): Sequential(\n",
      "    (0): Conv2d(3, 64, kernel_size=(7, 7), stride=(2, 2), padding=(3, 3), bias=False)\n",
      "    (1): BatchNorm2d(64, eps=1e-05, momentum=0.1, affine=True, track_running_stats=True)\n",
      "    (2): ReLU(inplace=True)\n",
      "    (3): MaxPool2d(kernel_size=3, stride=2, padding=1, dilation=1, ceil_mode=False)\n",
      "    (4): Sequential(\n",
      "      (0): BasicBlock(\n",
      "        (conv1): Conv2d(64, 64, kernel_size=(3, 3), stride=(1, 1), padding=(1, 1), bias=False)\n",
      "        (bn1): BatchNorm2d(64, eps=1e-05, momentum=0.1, affine=True, track_running_stats=True)\n",
      "        (relu): ReLU(inplace=True)\n",
      "        (conv2): Conv2d(64, 64, kernel_size=(3, 3), stride=(1, 1), padding=(1, 1), bias=False)\n",
      "        (bn2): BatchNorm2d(64, eps=1e-05, momentum=0.1, affine=True, track_running_stats=True)\n",
      "      )\n",
      "      (1): BasicBlock(\n",
      "        (conv1): Conv2d(64, 64, kernel_size=(3, 3), stride=(1, 1), padding=(1, 1), bias=False)\n",
      "        (bn1): BatchNorm2d(64, eps=1e-05, momentum=0.1, affine=True, track_running_stats=True)\n",
      "        (relu): ReLU(inplace=True)\n",
      "        (conv2): Conv2d(64, 64, kernel_size=(3, 3), stride=(1, 1), padding=(1, 1), bias=False)\n",
      "        (bn2): BatchNorm2d(64, eps=1e-05, momentum=0.1, affine=True, track_running_stats=True)\n",
      "      )\n",
      "      (2): BasicBlock(\n",
      "        (conv1): Conv2d(64, 64, kernel_size=(3, 3), stride=(1, 1), padding=(1, 1), bias=False)\n",
      "        (bn1): BatchNorm2d(64, eps=1e-05, momentum=0.1, affine=True, track_running_stats=True)\n",
      "        (relu): ReLU(inplace=True)\n",
      "        (conv2): Conv2d(64, 64, kernel_size=(3, 3), stride=(1, 1), padding=(1, 1), bias=False)\n",
      "        (bn2): BatchNorm2d(64, eps=1e-05, momentum=0.1, affine=True, track_running_stats=True)\n",
      "      )\n",
      "    )\n",
      "    (5): Sequential(\n",
      "      (0): BasicBlock(\n",
      "        (conv1): Conv2d(64, 128, kernel_size=(3, 3), stride=(2, 2), padding=(1, 1), bias=False)\n",
      "        (bn1): BatchNorm2d(128, eps=1e-05, momentum=0.1, affine=True, track_running_stats=True)\n",
      "        (relu): ReLU(inplace=True)\n",
      "        (conv2): Conv2d(128, 128, kernel_size=(3, 3), stride=(1, 1), padding=(1, 1), bias=False)\n",
      "        (bn2): BatchNorm2d(128, eps=1e-05, momentum=0.1, affine=True, track_running_stats=True)\n",
      "        (downsample): Sequential(\n",
      "          (0): Conv2d(64, 128, kernel_size=(1, 1), stride=(2, 2), bias=False)\n",
      "          (1): BatchNorm2d(128, eps=1e-05, momentum=0.1, affine=True, track_running_stats=True)\n",
      "        )\n",
      "      )\n",
      "      (1): BasicBlock(\n",
      "        (conv1): Conv2d(128, 128, kernel_size=(3, 3), stride=(1, 1), padding=(1, 1), bias=False)\n",
      "        (bn1): BatchNorm2d(128, eps=1e-05, momentum=0.1, affine=True, track_running_stats=True)\n",
      "        (relu): ReLU(inplace=True)\n",
      "        (conv2): Conv2d(128, 128, kernel_size=(3, 3), stride=(1, 1), padding=(1, 1), bias=False)\n",
      "        (bn2): BatchNorm2d(128, eps=1e-05, momentum=0.1, affine=True, track_running_stats=True)\n",
      "      )\n",
      "      (2): BasicBlock(\n",
      "        (conv1): Conv2d(128, 128, kernel_size=(3, 3), stride=(1, 1), padding=(1, 1), bias=False)\n",
      "        (bn1): BatchNorm2d(128, eps=1e-05, momentum=0.1, affine=True, track_running_stats=True)\n",
      "        (relu): ReLU(inplace=True)\n",
      "        (conv2): Conv2d(128, 128, kernel_size=(3, 3), stride=(1, 1), padding=(1, 1), bias=False)\n",
      "        (bn2): BatchNorm2d(128, eps=1e-05, momentum=0.1, affine=True, track_running_stats=True)\n",
      "      )\n",
      "      (3): BasicBlock(\n",
      "        (conv1): Conv2d(128, 128, kernel_size=(3, 3), stride=(1, 1), padding=(1, 1), bias=False)\n",
      "        (bn1): BatchNorm2d(128, eps=1e-05, momentum=0.1, affine=True, track_running_stats=True)\n",
      "        (relu): ReLU(inplace=True)\n",
      "        (conv2): Conv2d(128, 128, kernel_size=(3, 3), stride=(1, 1), padding=(1, 1), bias=False)\n",
      "        (bn2): BatchNorm2d(128, eps=1e-05, momentum=0.1, affine=True, track_running_stats=True)\n",
      "      )\n",
      "    )\n",
      "    (6): Sequential(\n",
      "      (0): BasicBlock(\n",
      "        (conv1): Conv2d(128, 256, kernel_size=(3, 3), stride=(2, 2), padding=(1, 1), bias=False)\n",
      "        (bn1): BatchNorm2d(256, eps=1e-05, momentum=0.1, affine=True, track_running_stats=True)\n",
      "        (relu): ReLU(inplace=True)\n",
      "        (conv2): Conv2d(256, 256, kernel_size=(3, 3), stride=(1, 1), padding=(1, 1), bias=False)\n",
      "        (bn2): BatchNorm2d(256, eps=1e-05, momentum=0.1, affine=True, track_running_stats=True)\n",
      "        (downsample): Sequential(\n",
      "          (0): Conv2d(128, 256, kernel_size=(1, 1), stride=(2, 2), bias=False)\n",
      "          (1): BatchNorm2d(256, eps=1e-05, momentum=0.1, affine=True, track_running_stats=True)\n",
      "        )\n",
      "      )\n",
      "      (1): BasicBlock(\n",
      "        (conv1): Conv2d(256, 256, kernel_size=(3, 3), stride=(1, 1), padding=(1, 1), bias=False)\n",
      "        (bn1): BatchNorm2d(256, eps=1e-05, momentum=0.1, affine=True, track_running_stats=True)\n",
      "        (relu): ReLU(inplace=True)\n",
      "        (conv2): Conv2d(256, 256, kernel_size=(3, 3), stride=(1, 1), padding=(1, 1), bias=False)\n",
      "        (bn2): BatchNorm2d(256, eps=1e-05, momentum=0.1, affine=True, track_running_stats=True)\n",
      "      )\n",
      "      (2): BasicBlock(\n",
      "        (conv1): Conv2d(256, 256, kernel_size=(3, 3), stride=(1, 1), padding=(1, 1), bias=False)\n",
      "        (bn1): BatchNorm2d(256, eps=1e-05, momentum=0.1, affine=True, track_running_stats=True)\n",
      "        (relu): ReLU(inplace=True)\n",
      "        (conv2): Conv2d(256, 256, kernel_size=(3, 3), stride=(1, 1), padding=(1, 1), bias=False)\n",
      "        (bn2): BatchNorm2d(256, eps=1e-05, momentum=0.1, affine=True, track_running_stats=True)\n",
      "      )\n",
      "      (3): BasicBlock(\n",
      "        (conv1): Conv2d(256, 256, kernel_size=(3, 3), stride=(1, 1), padding=(1, 1), bias=False)\n",
      "        (bn1): BatchNorm2d(256, eps=1e-05, momentum=0.1, affine=True, track_running_stats=True)\n",
      "        (relu): ReLU(inplace=True)\n",
      "        (conv2): Conv2d(256, 256, kernel_size=(3, 3), stride=(1, 1), padding=(1, 1), bias=False)\n",
      "        (bn2): BatchNorm2d(256, eps=1e-05, momentum=0.1, affine=True, track_running_stats=True)\n",
      "      )\n",
      "      (4): BasicBlock(\n",
      "        (conv1): Conv2d(256, 256, kernel_size=(3, 3), stride=(1, 1), padding=(1, 1), bias=False)\n",
      "        (bn1): BatchNorm2d(256, eps=1e-05, momentum=0.1, affine=True, track_running_stats=True)\n",
      "        (relu): ReLU(inplace=True)\n",
      "        (conv2): Conv2d(256, 256, kernel_size=(3, 3), stride=(1, 1), padding=(1, 1), bias=False)\n",
      "        (bn2): BatchNorm2d(256, eps=1e-05, momentum=0.1, affine=True, track_running_stats=True)\n",
      "      )\n",
      "      (5): BasicBlock(\n",
      "        (conv1): Conv2d(256, 256, kernel_size=(3, 3), stride=(1, 1), padding=(1, 1), bias=False)\n",
      "        (bn1): BatchNorm2d(256, eps=1e-05, momentum=0.1, affine=True, track_running_stats=True)\n",
      "        (relu): ReLU(inplace=True)\n",
      "        (conv2): Conv2d(256, 256, kernel_size=(3, 3), stride=(1, 1), padding=(1, 1), bias=False)\n",
      "        (bn2): BatchNorm2d(256, eps=1e-05, momentum=0.1, affine=True, track_running_stats=True)\n",
      "      )\n",
      "    )\n",
      "    (7): Sequential(\n",
      "      (0): BasicBlock(\n",
      "        (conv1): Conv2d(256, 512, kernel_size=(3, 3), stride=(2, 2), padding=(1, 1), bias=False)\n",
      "        (bn1): BatchNorm2d(512, eps=1e-05, momentum=0.1, affine=True, track_running_stats=True)\n",
      "        (relu): ReLU(inplace=True)\n",
      "        (conv2): Conv2d(512, 512, kernel_size=(3, 3), stride=(1, 1), padding=(1, 1), bias=False)\n",
      "        (bn2): BatchNorm2d(512, eps=1e-05, momentum=0.1, affine=True, track_running_stats=True)\n",
      "        (downsample): Sequential(\n",
      "          (0): Conv2d(256, 512, kernel_size=(1, 1), stride=(2, 2), bias=False)\n",
      "          (1): BatchNorm2d(512, eps=1e-05, momentum=0.1, affine=True, track_running_stats=True)\n",
      "        )\n",
      "      )\n",
      "      (1): BasicBlock(\n",
      "        (conv1): Conv2d(512, 512, kernel_size=(3, 3), stride=(1, 1), padding=(1, 1), bias=False)\n",
      "        (bn1): BatchNorm2d(512, eps=1e-05, momentum=0.1, affine=True, track_running_stats=True)\n",
      "        (relu): ReLU(inplace=True)\n",
      "        (conv2): Conv2d(512, 512, kernel_size=(3, 3), stride=(1, 1), padding=(1, 1), bias=False)\n",
      "        (bn2): BatchNorm2d(512, eps=1e-05, momentum=0.1, affine=True, track_running_stats=True)\n",
      "      )\n",
      "      (2): BasicBlock(\n",
      "        (conv1): Conv2d(512, 512, kernel_size=(3, 3), stride=(1, 1), padding=(1, 1), bias=False)\n",
      "        (bn1): BatchNorm2d(512, eps=1e-05, momentum=0.1, affine=True, track_running_stats=True)\n",
      "        (relu): ReLU(inplace=True)\n",
      "        (conv2): Conv2d(512, 512, kernel_size=(3, 3), stride=(1, 1), padding=(1, 1), bias=False)\n",
      "        (bn2): BatchNorm2d(512, eps=1e-05, momentum=0.1, affine=True, track_running_stats=True)\n",
      "      )\n",
      "    )\n",
      "    (8): AdaptiveAvgPool2d(output_size=(1, 1))\n",
      "  )\n",
      "  (classifier): Sequential(\n",
      "    (0): Dropout(p=0.5, inplace=False)\n",
      "    (1): Linear(in_features=512, out_features=2048, bias=True)\n",
      "    (2): ReLU(inplace=True)\n",
      "    (3): Dropout(p=0.5, inplace=False)\n",
      "    (4): Linear(in_features=2048, out_features=2048, bias=True)\n",
      "    (5): ReLU(inplace=True)\n",
      "    (6): Linear(in_features=2048, out_features=8, bias=True)\n",
      "  )\n",
      ")\n"
     ]
    }
   ],
   "source": [
    "# BUILD AND VISUALIZE THE MODEL\n",
    "model = MVCNN(num_classes=8, pretrained=True)\n",
    "print(model)"
   ]
  },
  {
   "cell_type": "markdown",
   "metadata": {},
   "source": [
    "## 3. Train the MVCNN Model"
   ]
  },
  {
   "cell_type": "code",
   "execution_count": 72,
   "metadata": {
    "ExecuteTime": {
     "end_time": "2019-12-22T00:27:13.619538Z",
     "start_time": "2019-12-22T00:27:13.614925Z"
    }
   },
   "outputs": [
    {
     "data": {
      "text/plain": [
       "device(type='cpu')"
      ]
     },
     "execution_count": 72,
     "metadata": {},
     "output_type": "execute_result"
    }
   ],
   "source": [
    "# DEFINE THE DEVICE\n",
    "device = torch.device(\"cuda:0\" if torch.cuda.is_available() else \"cpu\")\n",
    "device"
   ]
  },
  {
   "cell_type": "code",
   "execution_count": 73,
   "metadata": {
    "ExecuteTime": {
     "end_time": "2019-12-22T00:27:14.238124Z",
     "start_time": "2019-12-22T00:27:14.218478Z"
    }
   },
   "outputs": [],
   "source": [
    "# DEFINE A FUNCTION TO TRAIN THE MODEL\n",
    "\n",
    "def train_model(model, dataloaders, criterion, optimizer, num_epochs=25):\n",
    "    since = time.time()\n",
    "\n",
    "    val_acc_history = []\n",
    "\n",
    "    best_model_wts = copy.deepcopy(model.state_dict())\n",
    "    best_acc = 0.0\n",
    "\n",
    "    for epoch in range(1, num_epochs+1):\n",
    "        print('Epoch {}/{}'.format(epoch, num_epochs))\n",
    "        print('-' * 10)\n",
    "\n",
    "        # Each epoch has a training and validation phase\n",
    "        for phase in ['train', 'val']:\n",
    "            if phase == 'train':\n",
    "                model.train()  # Set model to training mode\n",
    "            else:\n",
    "                model.eval()   # Set model to evaluate mode\n",
    "\n",
    "            running_loss = 0.0\n",
    "            running_corrects = 0\n",
    "            all_preds = []\n",
    "            all_labels = []\n",
    "            # Iterate over data.\n",
    "            for inputs, labels in dataloaders[phase]:\n",
    "                inputs = inputs.to(device)\n",
    "                labels = labels.to(device)\n",
    "\n",
    "                # zero the parameter gradients\n",
    "                optimizer.zero_grad()\n",
    "\n",
    "                # forward\n",
    "                # track history if only in train\n",
    "                with torch.set_grad_enabled(phase == 'train'):\n",
    "                    # Get model outputs and calculate loss\n",
    "                    outputs = model(inputs)\n",
    "                    loss = criterion(outputs, labels)\n",
    "                    # Get model predictions\n",
    "                    _, preds = torch.max(outputs, 1)\n",
    "\n",
    "                    # backward + optimize only if in training phase\n",
    "                    if phase == 'train':\n",
    "                        loss.backward()\n",
    "                        optimizer.step()\n",
    "\n",
    "                # statistics\n",
    "                running_loss += loss.item() * inputs.size(0)\n",
    "                running_corrects += torch.sum(preds == labels.data)\n",
    "                all_preds.append(preds)\n",
    "                all_labels.append(labels)\n",
    "\n",
    "            epoch_loss = running_loss / len(dataloaders[phase].sampler.indices)\n",
    "            epoch_acc = running_corrects.double() / len(dataloaders[phase].sampler.indices)\n",
    "            all_labels = torch.cat(all_labels, 0)\n",
    "            all_preds = torch.cat(all_preds, 0)\n",
    "            epoch_weighted_acc = accuracy_score(all_labels.cpu().numpy(), all_preds.cpu().numpy())\n",
    "            \n",
    "\n",
    "            print('{} Loss: {:.4f} - Acc: {:.4f} - Weighted Acc: {:.4f}'.format(phase, epoch_loss, epoch_acc, epoch_weighted_acc))\n",
    "\n",
    "            # deep copy the model\n",
    "            if phase == 'val' and epoch_weighted_acc > best_acc:\n",
    "                best_acc = epoch_weighted_acc\n",
    "                best_model_wts = copy.deepcopy(model.state_dict())\n",
    "            if phase == 'val':\n",
    "                val_acc_history.append(epoch_weighted_acc)\n",
    "\n",
    "        print()\n",
    "\n",
    "    time_elapsed = time.time() - since\n",
    "    print('Training complete in {:.0f}m {:.0f}s'.format(time_elapsed // 60, time_elapsed % 60))\n",
    "    print('Best val Acc: {:4f}'.format(best_acc))\n",
    "\n",
    "    # load best model weights\n",
    "    model.load_state_dict(best_model_wts)\n",
    "    return model, val_acc_history"
   ]
  },
  {
   "cell_type": "markdown",
   "metadata": {},
   "source": [
    "### 3.1 Training the Classifier Block of the Network"
   ]
  },
  {
   "cell_type": "code",
   "execution_count": 74,
   "metadata": {},
   "outputs": [],
   "source": [
    "# FREEZE THE WEIGHTS IN THE FEATURE EXTRACTION BLOCK OF THE NETWORK (I.E. RESNET BASE)\n",
    "for param in model.features.parameters():\n",
    "    param.requires_grad = False"
   ]
  },
  {
   "cell_type": "code",
   "execution_count": 75,
   "metadata": {},
   "outputs": [
    {
     "name": "stdout",
     "output_type": "stream",
     "text": [
      "Epoch 1/40\n",
      "----------\n",
      "train Loss: 2.2735 - Acc: 0.0952 - Weighted Acc: 0.0952\n",
      "val Loss: 2.2087 - Acc: 0.1000 - Weighted Acc: 0.1000\n",
      "\n",
      "Epoch 2/40\n",
      "----------\n",
      "train Loss: 1.9574 - Acc: 0.1905 - Weighted Acc: 0.1905\n",
      "val Loss: 2.0851 - Acc: 0.2000 - Weighted Acc: 0.2000\n",
      "\n",
      "Epoch 3/40\n",
      "----------\n",
      "train Loss: 1.7363 - Acc: 0.2857 - Weighted Acc: 0.2857\n",
      "val Loss: 1.9051 - Acc: 0.2000 - Weighted Acc: 0.2000\n",
      "\n",
      "Epoch 4/40\n",
      "----------\n",
      "train Loss: 1.6575 - Acc: 0.5714 - Weighted Acc: 0.5714\n",
      "val Loss: 1.7150 - Acc: 0.7000 - Weighted Acc: 0.7000\n",
      "\n",
      "Epoch 5/40\n",
      "----------\n",
      "train Loss: 1.5444 - Acc: 0.6190 - Weighted Acc: 0.6190\n",
      "val Loss: 1.5160 - Acc: 0.8000 - Weighted Acc: 0.8000\n",
      "\n",
      "Epoch 6/40\n",
      "----------\n",
      "train Loss: 1.4925 - Acc: 0.6190 - Weighted Acc: 0.6190\n",
      "val Loss: 1.3706 - Acc: 0.6000 - Weighted Acc: 0.6000\n",
      "\n",
      "Epoch 7/40\n",
      "----------\n",
      "train Loss: 1.0695 - Acc: 0.8571 - Weighted Acc: 0.8571\n",
      "val Loss: 1.2304 - Acc: 0.8000 - Weighted Acc: 0.8000\n",
      "\n",
      "Epoch 8/40\n",
      "----------\n",
      "train Loss: 1.0940 - Acc: 0.8095 - Weighted Acc: 0.8095\n",
      "val Loss: 1.0504 - Acc: 1.0000 - Weighted Acc: 1.0000\n",
      "\n",
      "Epoch 9/40\n",
      "----------\n",
      "train Loss: 1.0797 - Acc: 0.7143 - Weighted Acc: 0.7143\n",
      "val Loss: 0.9095 - Acc: 1.0000 - Weighted Acc: 1.0000\n",
      "\n",
      "Epoch 10/40\n",
      "----------\n",
      "train Loss: 0.6976 - Acc: 0.8571 - Weighted Acc: 0.8571\n",
      "val Loss: 0.8008 - Acc: 0.9000 - Weighted Acc: 0.9000\n",
      "\n",
      "Epoch 11/40\n",
      "----------\n",
      "train Loss: 0.7336 - Acc: 0.8095 - Weighted Acc: 0.8095\n",
      "val Loss: 0.7374 - Acc: 0.8000 - Weighted Acc: 0.8000\n",
      "\n",
      "Epoch 12/40\n",
      "----------\n",
      "train Loss: 0.7189 - Acc: 0.7619 - Weighted Acc: 0.7619\n",
      "val Loss: 0.6980 - Acc: 0.8000 - Weighted Acc: 0.8000\n",
      "\n",
      "Epoch 13/40\n",
      "----------\n",
      "train Loss: 0.6163 - Acc: 0.9048 - Weighted Acc: 0.9048\n",
      "val Loss: 0.5844 - Acc: 0.9000 - Weighted Acc: 0.9000\n",
      "\n",
      "Epoch 14/40\n",
      "----------\n",
      "train Loss: 0.5373 - Acc: 0.9048 - Weighted Acc: 0.9048\n",
      "val Loss: 0.4516 - Acc: 1.0000 - Weighted Acc: 1.0000\n",
      "\n",
      "Epoch 15/40\n",
      "----------\n",
      "train Loss: 0.5430 - Acc: 0.8095 - Weighted Acc: 0.8095\n",
      "val Loss: 0.3684 - Acc: 1.0000 - Weighted Acc: 1.0000\n",
      "\n",
      "Epoch 16/40\n",
      "----------\n",
      "train Loss: 0.4543 - Acc: 0.9048 - Weighted Acc: 0.9048\n",
      "val Loss: 0.4321 - Acc: 0.9000 - Weighted Acc: 0.9000\n",
      "\n",
      "Epoch 17/40\n",
      "----------\n",
      "train Loss: 0.5247 - Acc: 0.8571 - Weighted Acc: 0.8571\n",
      "val Loss: 0.4116 - Acc: 0.8000 - Weighted Acc: 0.8000\n",
      "\n",
      "Epoch 18/40\n",
      "----------\n",
      "train Loss: 0.2309 - Acc: 0.9524 - Weighted Acc: 0.9524\n",
      "val Loss: 0.4425 - Acc: 0.8000 - Weighted Acc: 0.8000\n",
      "\n",
      "Epoch 19/40\n",
      "----------\n",
      "train Loss: 0.3485 - Acc: 0.9524 - Weighted Acc: 0.9524\n",
      "val Loss: 0.3995 - Acc: 0.9000 - Weighted Acc: 0.9000\n",
      "\n",
      "Epoch 20/40\n",
      "----------\n",
      "train Loss: 0.4383 - Acc: 0.8095 - Weighted Acc: 0.8095\n",
      "val Loss: 0.2452 - Acc: 1.0000 - Weighted Acc: 1.0000\n",
      "\n",
      "Epoch 21/40\n",
      "----------\n",
      "train Loss: 0.1349 - Acc: 1.0000 - Weighted Acc: 1.0000\n",
      "val Loss: 0.2458 - Acc: 0.9000 - Weighted Acc: 0.9000\n",
      "\n",
      "Epoch 22/40\n",
      "----------\n",
      "train Loss: 0.2806 - Acc: 0.9524 - Weighted Acc: 0.9524\n",
      "val Loss: 0.2854 - Acc: 0.9000 - Weighted Acc: 0.9000\n",
      "\n",
      "Epoch 23/40\n",
      "----------\n",
      "train Loss: 0.4949 - Acc: 0.8095 - Weighted Acc: 0.8095\n",
      "val Loss: 0.4408 - Acc: 0.8000 - Weighted Acc: 0.8000\n",
      "\n",
      "Epoch 24/40\n",
      "----------\n",
      "train Loss: 0.2895 - Acc: 0.9524 - Weighted Acc: 0.9524\n",
      "val Loss: 0.5294 - Acc: 0.8000 - Weighted Acc: 0.8000\n",
      "\n",
      "Epoch 25/40\n",
      "----------\n",
      "train Loss: 0.3661 - Acc: 0.9048 - Weighted Acc: 0.9048\n",
      "val Loss: 0.5561 - Acc: 0.7000 - Weighted Acc: 0.7000\n",
      "\n",
      "Epoch 26/40\n",
      "----------\n",
      "train Loss: 0.1722 - Acc: 0.9524 - Weighted Acc: 0.9524\n",
      "val Loss: 0.4380 - Acc: 0.8000 - Weighted Acc: 0.8000\n",
      "\n",
      "Epoch 27/40\n",
      "----------\n",
      "train Loss: 0.3899 - Acc: 0.8571 - Weighted Acc: 0.8571\n",
      "val Loss: 0.3464 - Acc: 0.9000 - Weighted Acc: 0.9000\n",
      "\n",
      "Epoch 28/40\n",
      "----------\n",
      "train Loss: 0.2573 - Acc: 0.9048 - Weighted Acc: 0.9048\n",
      "val Loss: 0.4580 - Acc: 0.8000 - Weighted Acc: 0.8000\n",
      "\n",
      "Epoch 29/40\n",
      "----------\n",
      "train Loss: 0.2499 - Acc: 0.8571 - Weighted Acc: 0.8571\n",
      "val Loss: 0.5941 - Acc: 0.8000 - Weighted Acc: 0.8000\n",
      "\n",
      "Epoch 30/40\n",
      "----------\n",
      "train Loss: 0.2293 - Acc: 0.8571 - Weighted Acc: 0.8571\n",
      "val Loss: 0.9274 - Acc: 0.7000 - Weighted Acc: 0.7000\n",
      "\n",
      "Epoch 31/40\n",
      "----------\n",
      "train Loss: 0.6373 - Acc: 0.8571 - Weighted Acc: 0.8571\n",
      "val Loss: 0.6565 - Acc: 0.7000 - Weighted Acc: 0.7000\n",
      "\n",
      "Epoch 32/40\n",
      "----------\n",
      "train Loss: 0.1401 - Acc: 0.9048 - Weighted Acc: 0.9048\n",
      "val Loss: 0.4759 - Acc: 0.8000 - Weighted Acc: 0.8000\n",
      "\n",
      "Epoch 33/40\n",
      "----------\n",
      "train Loss: 0.2285 - Acc: 0.8571 - Weighted Acc: 0.8571\n",
      "val Loss: 0.4476 - Acc: 0.9000 - Weighted Acc: 0.9000\n",
      "\n",
      "Epoch 34/40\n",
      "----------\n",
      "train Loss: 0.2632 - Acc: 0.9048 - Weighted Acc: 0.9048\n",
      "val Loss: 0.4595 - Acc: 0.8000 - Weighted Acc: 0.8000\n",
      "\n",
      "Epoch 35/40\n",
      "----------\n",
      "train Loss: 0.1843 - Acc: 0.9524 - Weighted Acc: 0.9524\n",
      "val Loss: 0.5667 - Acc: 0.8000 - Weighted Acc: 0.8000\n",
      "\n",
      "Epoch 36/40\n",
      "----------\n",
      "train Loss: 0.4904 - Acc: 0.9048 - Weighted Acc: 0.9048\n",
      "val Loss: 0.5363 - Acc: 0.8000 - Weighted Acc: 0.8000\n",
      "\n",
      "Epoch 37/40\n",
      "----------\n",
      "train Loss: 0.3254 - Acc: 0.8571 - Weighted Acc: 0.8571\n",
      "val Loss: 0.3132 - Acc: 0.9000 - Weighted Acc: 0.9000\n",
      "\n",
      "Epoch 38/40\n",
      "----------\n",
      "train Loss: 0.1566 - Acc: 0.9524 - Weighted Acc: 0.9524\n",
      "val Loss: 0.2778 - Acc: 0.9000 - Weighted Acc: 0.9000\n",
      "\n",
      "Epoch 39/40\n",
      "----------\n",
      "train Loss: 0.2691 - Acc: 0.9048 - Weighted Acc: 0.9048\n",
      "val Loss: 0.3862 - Acc: 0.9000 - Weighted Acc: 0.9000\n",
      "\n",
      "Epoch 40/40\n",
      "----------\n",
      "train Loss: 0.6477 - Acc: 0.7143 - Weighted Acc: 0.7143\n",
      "val Loss: 0.2314 - Acc: 0.9000 - Weighted Acc: 0.9000\n",
      "\n",
      "Training complete in 15m 38s\n",
      "Best val Acc: 1.000000\n"
     ]
    }
   ],
   "source": [
    "# TRAIN THE CLASSIFIER BLOCK OF THE MODEL (I.E TOP DENSE LAYERS)\n",
    "model.to(device)\n",
    "EPOCHS = 40\n",
    "weight = None\n",
    "criterion = nn.CrossEntropyLoss(weight=weight)\n",
    "optimizer = optim.Adam(model.classifier.parameters(), lr=0.0005)\n",
    "\n",
    "model, val_acc_history = train_model(model=model, dataloaders=data_loaders, criterion=criterion, optimizer=optimizer, num_epochs=EPOCHS)"
   ]
  },
  {
   "cell_type": "code",
   "execution_count": 76,
   "metadata": {
    "ExecuteTime": {
     "end_time": "2019-12-22T00:24:47.039354Z",
     "start_time": "2019-12-22T00:24:47.034122Z"
    }
   },
   "outputs": [],
   "source": [
    "# SAVE CURRENT WEIGHTS OF THE MODEL (STAGE 1: FEATURE EXTRACTION)\n",
    "torch.save(model.state_dict(), '../models/mvcnn_stage_1.pkl')"
   ]
  },
  {
   "cell_type": "markdown",
   "metadata": {},
   "source": [
    "### 3.2 Fine-Tuning the Entire Network (Feature Extractor + Classifier Blocks)"
   ]
  },
  {
   "cell_type": "code",
   "execution_count": 77,
   "metadata": {},
   "outputs": [],
   "source": [
    "# UNFREEZE ALL THE WEIGHTS OF THE NETWORK\n",
    "for param in model.parameters():\n",
    "    param.requires_grad = True"
   ]
  },
  {
   "cell_type": "code",
   "execution_count": 78,
   "metadata": {
    "scrolled": true
   },
   "outputs": [
    {
     "name": "stdout",
     "output_type": "stream",
     "text": [
      "Epoch 1/20\n",
      "----------\n",
      "train Loss: 0.9722 - Acc: 0.7619 - Weighted Acc: 0.7619\n",
      "val Loss: 0.9331 - Acc: 1.0000 - Weighted Acc: 1.0000\n",
      "\n",
      "Epoch 2/20\n",
      "----------\n",
      "train Loss: 0.6986 - Acc: 0.8571 - Weighted Acc: 0.8571\n",
      "val Loss: 0.8722 - Acc: 1.0000 - Weighted Acc: 1.0000\n",
      "\n",
      "Epoch 3/20\n",
      "----------\n",
      "train Loss: 0.7232 - Acc: 0.9524 - Weighted Acc: 0.9524\n",
      "val Loss: 0.8151 - Acc: 1.0000 - Weighted Acc: 1.0000\n",
      "\n",
      "Epoch 4/20\n",
      "----------\n",
      "train Loss: 0.6102 - Acc: 0.9524 - Weighted Acc: 0.9524\n",
      "val Loss: 0.7576 - Acc: 0.9000 - Weighted Acc: 0.9000\n",
      "\n",
      "Epoch 5/20\n",
      "----------\n",
      "train Loss: 0.4082 - Acc: 0.9524 - Weighted Acc: 0.9524\n",
      "val Loss: 0.7191 - Acc: 0.9000 - Weighted Acc: 0.9000\n",
      "\n",
      "Epoch 6/20\n",
      "----------\n",
      "train Loss: 0.2815 - Acc: 1.0000 - Weighted Acc: 1.0000\n",
      "val Loss: 0.6940 - Acc: 0.8000 - Weighted Acc: 0.8000\n",
      "\n",
      "Epoch 7/20\n",
      "----------\n",
      "train Loss: 0.3430 - Acc: 0.9524 - Weighted Acc: 0.9524\n",
      "val Loss: 0.6706 - Acc: 0.8000 - Weighted Acc: 0.8000\n",
      "\n",
      "Epoch 8/20\n",
      "----------\n",
      "train Loss: 0.3415 - Acc: 0.9524 - Weighted Acc: 0.9524\n",
      "val Loss: 0.6382 - Acc: 0.8000 - Weighted Acc: 0.8000\n",
      "\n",
      "Epoch 9/20\n",
      "----------\n",
      "train Loss: 0.2503 - Acc: 1.0000 - Weighted Acc: 1.0000\n",
      "val Loss: 0.5999 - Acc: 0.9000 - Weighted Acc: 0.9000\n",
      "\n",
      "Epoch 10/20\n",
      "----------\n",
      "train Loss: 0.1235 - Acc: 1.0000 - Weighted Acc: 1.0000\n",
      "val Loss: 0.5673 - Acc: 0.9000 - Weighted Acc: 0.9000\n",
      "\n",
      "Epoch 11/20\n",
      "----------\n",
      "train Loss: 0.2082 - Acc: 1.0000 - Weighted Acc: 1.0000\n",
      "val Loss: 0.5308 - Acc: 0.9000 - Weighted Acc: 0.9000\n",
      "\n",
      "Epoch 12/20\n",
      "----------\n",
      "train Loss: 0.1362 - Acc: 1.0000 - Weighted Acc: 1.0000\n",
      "val Loss: 0.4974 - Acc: 1.0000 - Weighted Acc: 1.0000\n",
      "\n",
      "Epoch 13/20\n",
      "----------\n",
      "train Loss: 0.1408 - Acc: 1.0000 - Weighted Acc: 1.0000\n",
      "val Loss: 0.4643 - Acc: 1.0000 - Weighted Acc: 1.0000\n",
      "\n",
      "Epoch 14/20\n",
      "----------\n",
      "train Loss: 0.1208 - Acc: 1.0000 - Weighted Acc: 1.0000\n",
      "val Loss: 0.4351 - Acc: 1.0000 - Weighted Acc: 1.0000\n",
      "\n",
      "Epoch 15/20\n",
      "----------\n",
      "train Loss: 0.0923 - Acc: 1.0000 - Weighted Acc: 1.0000\n",
      "val Loss: 0.4105 - Acc: 1.0000 - Weighted Acc: 1.0000\n",
      "\n",
      "Epoch 16/20\n",
      "----------\n",
      "train Loss: 0.1169 - Acc: 1.0000 - Weighted Acc: 1.0000\n",
      "val Loss: 0.3875 - Acc: 1.0000 - Weighted Acc: 1.0000\n",
      "\n",
      "Epoch 17/20\n",
      "----------\n",
      "train Loss: 0.0661 - Acc: 1.0000 - Weighted Acc: 1.0000\n",
      "val Loss: 0.3659 - Acc: 1.0000 - Weighted Acc: 1.0000\n",
      "\n",
      "Epoch 18/20\n",
      "----------\n",
      "train Loss: 0.0746 - Acc: 1.0000 - Weighted Acc: 1.0000\n",
      "val Loss: 0.3479 - Acc: 1.0000 - Weighted Acc: 1.0000\n",
      "\n",
      "Epoch 19/20\n",
      "----------\n",
      "train Loss: 0.0882 - Acc: 1.0000 - Weighted Acc: 1.0000\n",
      "val Loss: 0.3312 - Acc: 1.0000 - Weighted Acc: 1.0000\n",
      "\n",
      "Epoch 20/20\n",
      "----------\n",
      "train Loss: 0.0326 - Acc: 1.0000 - Weighted Acc: 1.0000\n",
      "val Loss: 0.3175 - Acc: 1.0000 - Weighted Acc: 1.0000\n",
      "\n",
      "Training complete in 19m 32s\n",
      "Best val Acc: 1.000000\n"
     ]
    }
   ],
   "source": [
    "# FINE-TUNE THE ENTIRE MODEL (I.E FEATURE EXTRACTOR + CLASSIFIER BLOCKS) USING A VERY SMALL LEARNING RATE\n",
    "EPOCHS = 20\n",
    "criterion = nn.CrossEntropyLoss(weight=weight)\n",
    "optimizer = optim.Adam(model.parameters(), lr=0.00005) # We use a smaller learning rate\n",
    "\n",
    "model, val_acc_history = train_model(model=model, dataloaders=data_loaders, criterion=criterion, optimizer=optimizer, num_epochs=EPOCHS)"
   ]
  },
  {
   "cell_type": "code",
   "execution_count": 79,
   "metadata": {},
   "outputs": [],
   "source": [
    "# SAVE CURRENT WEIGHTS OF THE MODEL (STAGE 2: FINE-TUNING)\n",
    "torch.save(model.state_dict(), '../models/mvcnn_stage_2.pkl')"
   ]
  },
  {
   "cell_type": "code",
   "execution_count": 80,
   "metadata": {},
   "outputs": [],
   "source": [
    "# FUNCTION TO GET PREDICTIONS FOR NEW CAR PLUGS\n",
    "def mvcnn_pred(plug_name, data_dir, model, device):\n",
    "    transform = transforms.Compose([transforms.Resize((224, 224)), transforms.ToTensor()])\n",
    "    plug_fnames = glob.glob(data_dir + f'/{plug_name}_*.png')\n",
    "    plug = torch.stack([transform(Image.open(fname).convert('RGB')) for fname in plug_fnames]).unsqueeze(0)\n",
    "    plug = plug.to(device)\n",
    "    pred = torch.nn.functional.softmax(model(plug)).argmax().item()\n",
    "    return pred, {v:k for k,v in class_id_map.items()}[pred]\n",
    "\n"
   ]
  },
  {
   "cell_type": "code",
   "execution_count": 85,
   "metadata": {},
   "outputs": [
    {
     "data": {
      "text/plain": [
       "(1, 'cola')"
      ]
     },
     "execution_count": 85,
     "metadata": {},
     "output_type": "execute_result"
    }
   ],
   "source": [
    "# GET NEW PREDICTIONS FROM RAW IMAGES USING A CAR PLUG NAME\n",
    "plug_name = 'cola3'\n",
    "mvcnn_pred(plug_name, '../data/processed', model, device)"
   ]
  },
  {
   "cell_type": "code",
   "execution_count": null,
   "metadata": {},
   "outputs": [],
   "source": []
  }
 ],
 "metadata": {
  "kernelspec": {
   "display_name": "Python 3",
   "language": "python",
   "name": "python3"
  },
  "language_info": {
   "codemirror_mode": {
    "name": "ipython",
    "version": 3
   },
   "file_extension": ".py",
   "mimetype": "text/x-python",
   "name": "python",
   "nbconvert_exporter": "python",
   "pygments_lexer": "ipython3",
   "version": "3.8.5"
  },
  "latex_envs": {
   "LaTeX_envs_menu_present": true,
   "autoclose": false,
   "autocomplete": true,
   "bibliofile": "biblio.bib",
   "cite_by": "apalike",
   "current_citInitial": 1,
   "eqLabelWithNumbers": true,
   "eqNumInitial": 1,
   "hotkeys": {
    "equation": "Ctrl-E",
    "itemize": "Ctrl-I"
   },
   "labels_anchors": false,
   "latex_user_defs": false,
   "report_style_numbering": false,
   "user_envs_cfg": false
  }
 },
 "nbformat": 4,
 "nbformat_minor": 2
}
